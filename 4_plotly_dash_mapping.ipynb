{
 "cells": [
  {
   "cell_type": "code",
   "execution_count": null,
   "metadata": {},
   "outputs": [],
   "source": [
    "%load_ext nb_black\n",
    "%load_ext autoreload\n",
    "%autoreload 2"
   ]
  },
  {
   "cell_type": "code",
   "execution_count": null,
   "metadata": {},
   "outputs": [],
   "source": [
    "import os\n",
    "import sys\n",
    "from glob import glob\n",
    "from io import StringIO\n",
    "from IPython.display import display\n",
    "from pathlib import Path\n",
    "\n",
    "from azure.storage.blob import BlobServiceClient\n",
    "from pandas import read_csv, set_option, to_datetime\n",
    "from plotly.subplots import make_subplots"
   ]
  },
  {
   "cell_type": "code",
   "execution_count": null,
   "metadata": {},
   "outputs": [],
   "source": [
    "PROJECT_ROOT = Path.cwd()\n",
    "sys.path.append(str(PROJECT_ROOT / \"aci-dash\" / \"app\" / \"src\"))\n",
    "sys.path.append(str(PROJECT_ROOT / \"pyviz_panel\" / \"app\" / \"src\"))"
   ]
  },
  {
   "cell_type": "code",
   "execution_count": null,
   "metadata": {},
   "outputs": [],
   "source": [
    "%aimport dash_helpers\n",
    "from dash_helpers import (\n",
    "    plot_heatmap,\n",
    "    load_add_district_or_side_to_geojson,\n",
    "    filter_geodata_and_merge,\n",
    "    plot_choro,\n",
    ")\n",
    "\n",
    "%aimport visualization_helpers_altair\n",
    "from visualization_helpers_altair import load_prep_geodata"
   ]
  },
  {
   "cell_type": "code",
   "execution_count": null,
   "metadata": {},
   "outputs": [],
   "source": [
    "set_option(\"display.max_rows\", 500)\n",
    "set_option(\"display.max_columns\", 500)\n",
    "set_option(\"display.width\", 1000)"
   ]
  },
  {
   "cell_type": "markdown",
   "metadata": {},
   "source": [
    "<a id=\"toc\"></a>\n",
    "\n",
    "## [Table of Contents](#table-of-contents)\n",
    "0. [About](#about)\n",
    "1. [User Inputs](#user-inputs)\n",
    "2. [Load data](#load-data)\n",
    "3. [Generate choropleth maps](#generate-choropleth-maps)\n",
    "4. [Generate heatmaps](#generate-heatmaps)"
   ]
  },
  {
   "cell_type": "markdown",
   "metadata": {},
   "source": [
    "<a id=\"about\"></a>\n",
    "\n",
    "## 0. [About](#about)"
   ]
  },
  {
   "cell_type": "markdown",
   "metadata": {},
   "source": [
    "In this notebook, we will use [Plotly](https://plot.ly/) to generate the plots to be shown on a dashboard using the date-time and geographical data exported to `data/processed/heat_mapping_inputs.csv` and `data/processed/choro_mapping_inputs.csv`"
   ]
  },
  {
   "cell_type": "markdown",
   "metadata": {},
   "source": [
    "<a id=\"user-inputs\"></a>\n",
    "\n",
    "## 1. [User Inputs](#user-inputs)"
   ]
  },
  {
   "cell_type": "markdown",
   "metadata": {},
   "source": [
    "We'll define below the variables that are to be used throughout the code."
   ]
  },
  {
   "cell_type": "markdown",
   "metadata": {},
   "source": [
    "First, we'll specify the variabes that will be picked up from dashboard inputs. Next, we'll specify inputs related to the location of input and output files relevant to the dashboard. We'll then specify plotting preferences."
   ]
  },
  {
   "cell_type": "code",
   "execution_count": null,
   "metadata": {
    "tags": [
     "parameters"
    ]
   },
   "outputs": [],
   "source": [
    "PROJECT_DIR = str(Path().cwd())  # type: Path\n",
    "data_dir = str(Path(PROJECT_DIR) / \"data\")\n",
    "dash_data_dir = str(Path(PROJECT_DIR) / \"aci-dash\" / \"app\" / \"data\")\n",
    "figs_dir = str(Path(PROJECT_DIR) / \"reports\" / \"figures\")\n",
    "\n",
    "choro_data_dir = str(Path(dash_data_dir) / \"processed\" / \"choro_mapping_inputs.csv\")\n",
    "heat_data_dir = str(Path(dash_data_dir) / \"processed\" / \"heat_mapping_inputs.csv\")\n",
    "\n",
    "primary_types = [\"CRIMINAL_DISTURBANCE\", \"VIOLENCE_TO_HUMAN\", \"PROPERTY_DAMAGE\"]\n",
    "da_choices = [\"district\"]  # \"beat\" (or \"district\"), \"community_area\"\n",
    "\n",
    "# Plotting preferences\n",
    "pf = \"Police*\"\n",
    "ca = \"Community*\"\n",
    "nb = \"Neighborhoods\"\n",
    "agg_dict = {\"arrest\": [\"sum\"], \"datetime\": [\"count\"]}\n",
    "da = {\n",
    "    \"neighbourhood\": {\n",
    "        # \"file\": glob(str(Path(data_dir) / \"raw\" / nb / \"*.shp\"))[0],\n",
    "        # \"geojson\": str(Path(data_dir) / \"raw\" / f\"Boundaries - {nb}.geojson\"),\n",
    "        \"basic_view_cols\": \"pri|sec|geometry\",\n",
    "        \"pre-post-explosition-compare\": \"pri_neigh\",\n",
    "        \"left_join_col\": \"pri_neigh_x\",\n",
    "    },\n",
    "    \"district\": {\n",
    "        # \"file\": glob(str(Path(data_dir) / \"raw\" / pf / \"*.shp\"))[0],\n",
    "        # \"geojson\": str(Path(data_dir) / \"raw\" / \"CPD districts.geojson\"),\n",
    "        \"basic_view_cols\": \"district|sect|geometry\",\n",
    "        \"pre-post-explosition-compare\": \"district\",\n",
    "        \"left_join_col\": \"district\",\n",
    "    },\n",
    "    \"community_area\": {\n",
    "        # \"file\": glob(str(Path(data_dir) / \"raw\" / ca / \"*.shp\"))[0],\n",
    "        # \"geojson\": str(Path(data_dir) / \"raw\" / f\"Boundaries - {ca}.geojson\"),\n",
    "        \"basic_view_cols\": \"area_num_1|community|geometry\",\n",
    "        \"pre-post-explosition-compare\": \"comarea\",\n",
    "        \"left_join_col\": \"area_num_1_x\",\n",
    "    },\n",
    "}\n",
    "\n",
    "general_plot_specs = {\n",
    "    \"choromap_projectiontype\": \"mercator\",\n",
    "    \"color_by_column\": \"datetime|count\",\n",
    "    \"colorscheme\": \"YlOrRd\",\n",
    "    \"choro_map_figsize\": {\"width\": 800, \"height\": 600},\n",
    "    \"legend_title\": [\"Occurrences\"],\n",
    "    \"heatmap_xy\": {\"x\": \"month:O\", \"y\": \"day:O\", \"yscale\": \"linear\"},\n",
    "    \"heat_map_figsize\": {\"width\": 300, \"height\": 535},\n",
    "}\n",
    "\n",
    "dt_hmap = {\n",
    "    \"x\": {\"value\": \"month\", \"title\": \"Month\", \"type\": \"int\", \"format\": 0},\n",
    "    \"y\": {\"value\": \"day\", \"title\": \"Day\", \"type\": \"int\", \"format\": 0},\n",
    "    \"z\": {\n",
    "        \"value\": \"datetime|count\",\n",
    "        \"title\": \"Occurrences\",\n",
    "        \"type\": \"int\",\n",
    "        \"format\": 0,\n",
    "    },\n",
    "    \"e1\": {\"value\": \"arrest|sum\", \"title\": \"Arrests\", \"type\": \"int\", \"format\": 0},\n",
    "    \"e2\": {\n",
    "        \"value\": \"probability_of_max_class|mean\",\n",
    "        \"title\": \"Probability (Avg.)\",\n",
    "        \"type\": \"float\",\n",
    "        \"format\": 2,\n",
    "    },\n",
    "}\n",
    "dt_choro = {\n",
    "    \"district\": {\"title\": \"District\",},\n",
    "    \"area\": {\"title\": \"Area (sq. km)\",},\n",
    "    \"side\": {\"title\": \"Side\",},\n",
    "    \"datetime|count\": {\"title\": \"Ocurrences\",},\n",
    "    \"arrest|sum\": {\"title\": \"Arrests\",},\n",
    "    \"probability_of_max_class|mean\": {\"title\": \"Probability (Avg.)\",},\n",
    "}\n",
    "\n",
    "district_to_side = {\n",
    "    s: k\n",
    "    for k, v in {\n",
    "        \"North\": [11, 14, 15, 16, 17, 19, 20, 24, 25],\n",
    "        \"Central\": [1, 2, 3, 8, 9, 10, 12, 13, 18],\n",
    "        \"South\": [4, 5, 6, 7, 22],\n",
    "    }.items()\n",
    "    for s in v\n",
    "}"
   ]
  },
  {
   "cell_type": "code",
   "execution_count": null,
   "metadata": {},
   "outputs": [],
   "source": [
    "if choro_data_dir == \"cloud\":\n",
    "    az_storage_container_name = \"myconedesx7\"\n",
    "    conn_str = (\n",
    "        \"DefaultEndpointsProtocol=https;\"\n",
    "        f\"AccountName={os.getenv('AZURE_STORAGE_ACCOUNT')};\"\n",
    "        f\"AccountKey={os.getenv('AZURE_STORAGE_KEY')};\"\n",
    "        f\"EndpointSuffix={os.getenv('ENDPOINT_SUFFIX')}\"\n",
    "    )\n",
    "    blob_service_client = BlobServiceClient.from_connection_string(conn_str=conn_str)\n",
    "    choro_blob_client = blob_service_client.get_blob_client(\n",
    "        container=az_storage_container_name, blob=\"blobedesz4\"\n",
    "    )\n",
    "    choro_data_dir = StringIO(choro_blob_client.download_blob().content_as_text())\n",
    "    heat_blob_client = blob_service_client.get_blob_client(\n",
    "        container=az_storage_container_name, blob=\"blobedesz5\"\n",
    "    )\n",
    "    heat_data_dir = StringIO(heat_blob_client.download_blob().content_as_text())\n",
    "else:\n",
    "    da[\"neighbourhood\"][\"file\"] = glob(str(Path(data_dir) / \"raw\" / nb / \"*.shp\"))[0]\n",
    "    da[\"district\"][\"file\"] = glob(str(Path(data_dir) / \"raw\" / pf / \"*.shp\"))[0]\n",
    "    da[\"community_area\"][\"file\"] = glob(str(Path(data_dir) / \"raw\" / ca / \"*.shp\"))[0]\n",
    "    da[\"neighbourhood\"][\"geojson\"] = glob(\n",
    "        str(Path(data_dir) / \"raw\" / f\"Boundaries - {nb}*.geojson\")\n",
    "    )[0]\n",
    "    da[\"district\"][\"geojson\"] = glob(str(Path(data_dir) / \"raw\" / \"*istricts.geojson\"))[\n",
    "        0\n",
    "    ]\n",
    "    da[\"community_area\"][\"geojson\"] = glob(\n",
    "        str(Path(data_dir) / \"raw\" / f\"Boundaries - {ca}.geojson\")\n",
    "    )[0]\n",
    "district_to_side = {int(k): v for k, v in district_to_side.items()}\n",
    "da_choice = da_choices[0]\n",
    "heatmap_dir_path = figs_dir\n",
    "choromap_dir_path = figs_dir"
   ]
  },
  {
   "cell_type": "markdown",
   "metadata": {},
   "source": [
    "<a id=\"load-data\"></a>\n",
    "\n",
    "## 2. [Load data](#load-data)"
   ]
  },
  {
   "cell_type": "markdown",
   "metadata": {},
   "source": [
    "We'll start by loading the two mapping files into separate `DataFrame`s"
   ]
  },
  {
   "cell_type": "code",
   "execution_count": null,
   "metadata": {},
   "outputs": [],
   "source": [
    "df_ch = read_csv(choro_data_dir, dtype={da_choice: int})\n",
    "df_h = read_csv(heat_data_dir)\n",
    "df_h[\"month\"] = to_datetime(df_h[\"month\"], format=\"%m\").dt.month_name()\n",
    "df_h[\"probability_of_max_class|mean\"] *= 100\n",
    "data = load_add_district_or_side_to_geojson(\n",
    "    district_geojson_file_path=da[da_choice][\"geojson\"],\n",
    "    key=\"dist_num\",\n",
    "    division_type=da_choice,\n",
    "    district_to_side=district_to_side,\n",
    ")\n",
    "gdf_out = load_prep_geodata(gpd_path=da[da_choice][\"file\"], da_choice=da_choice)\n",
    "df_choro_data = filter_geodata_and_merge(\n",
    "    gdf_out=gdf_out,\n",
    "    df_ch=df_ch,\n",
    "    da_choice=da_choice,\n",
    "    district_to_side=district_to_side,\n",
    ")"
   ]
  },
  {
   "cell_type": "markdown",
   "metadata": {},
   "source": [
    "<a id=\"generate-choropleth-maps\"></a>\n",
    "\n",
    "## 3. [Generate choropleth maps](#generate-choropleth-maps)"
   ]
  },
  {
   "cell_type": "markdown",
   "metadata": {},
   "source": [
    "Next, we'll generate each version of the choropleth map\n",
    "- one version per user specification for `primary_type`"
   ]
  },
  {
   "cell_type": "code",
   "execution_count": null,
   "metadata": {},
   "outputs": [],
   "source": [
    "d = {}\n",
    "for primary_type in primary_types:\n",
    "    df_mapping_choro = df_choro_data.loc[df_choro_data[\"primary_type\"] == primary_type]\n",
    "    d[primary_type] = plot_choro(\n",
    "        df=df_mapping_choro,\n",
    "        geodata=data,\n",
    "        color_by_col=general_plot_specs[\"color_by_column\"],\n",
    "        colorscheme=general_plot_specs[\"colorscheme\"],\n",
    "        da_choice=da_choice,\n",
    "        choro_tooltip_dict=dt_choro,\n",
    "        projection_type=general_plot_specs[\"choromap_projectiontype\"],\n",
    "        figsize=(\n",
    "            general_plot_specs[\"choro_map_figsize\"][\"width\"],\n",
    "            general_plot_specs[\"choro_map_figsize\"][\"height\"],\n",
    "        ),\n",
    "        file_path=Path(figs_dir) / f\"choromap_{primary_type}_dash.html\",\n",
    "        save_to_html=True,\n",
    "    )"
   ]
  },
  {
   "cell_type": "markdown",
   "metadata": {},
   "source": [
    "Display each version of the choropleth map"
   ]
  },
  {
   "cell_type": "code",
   "execution_count": null,
   "metadata": {
    "scrolled": false
   },
   "outputs": [],
   "source": [
    "for k, v in d.items():\n",
    "    v.show()"
   ]
  },
  {
   "cell_type": "markdown",
   "metadata": {},
   "source": [
    "<a id=\"generate-heatmaps\"></a>\n",
    "\n",
    "## 4. [Generate heatmaps](#generate-heatmaps)"
   ]
  },
  {
   "cell_type": "markdown",
   "metadata": {},
   "source": [
    "Next, we'll generate each version of the datetime heatmap\n",
    "- one version per user specification for `primary_type`"
   ]
  },
  {
   "cell_type": "code",
   "execution_count": null,
   "metadata": {},
   "outputs": [],
   "source": [
    "dh = {}\n",
    "for primary_type in primary_types:\n",
    "    df_mapping_choro = df_h.loc[df_h[\"primary_type\"] == primary_type]\n",
    "    dh[primary_type] = fig = plot_heatmap(\n",
    "        df=df_mapping_choro,\n",
    "        x=\"month\",\n",
    "        y=\"day\",\n",
    "        z=\"datetime|count\",\n",
    "        xtitle=\"month\",\n",
    "        ytitle=\"day\",\n",
    "        xautorange=True,\n",
    "        yautorange=\"reversed\",\n",
    "        c=\"YlOrRd\",\n",
    "        hover_data=dt_hmap,\n",
    "        viz=True,\n",
    "        margins={\"r\": 50, \"t\": 0, \"l\": 75, \"b\": 0, \"pad\": 0},\n",
    "        fig_size=(400, 535),\n",
    "        file_path=Path(figs_dir) / f\"heatmap_{primary_type}_dash.html\",\n",
    "        save_to_html=True,\n",
    "    )"
   ]
  },
  {
   "cell_type": "markdown",
   "metadata": {},
   "source": [
    "Display each version of the heatmap"
   ]
  },
  {
   "cell_type": "code",
   "execution_count": null,
   "metadata": {},
   "outputs": [],
   "source": [
    "for k, v in dh.items():\n",
    "    v.show()"
   ]
  }
 ],
 "metadata": {
  "kernelspec": {
   "display_name": "Python 3",
   "language": "python",
   "name": "python3"
  },
  "language_info": {
   "codemirror_mode": {
    "name": "ipython",
    "version": 3
   },
   "file_extension": ".py",
   "mimetype": "text/x-python",
   "name": "python",
   "nbconvert_exporter": "python",
   "pygments_lexer": "ipython3",
   "version": "3.7.3"
  }
 },
 "nbformat": 4,
 "nbformat_minor": 4
}
