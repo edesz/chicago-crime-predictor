{
 "cells": [
  {
   "cell_type": "markdown",
   "metadata": {},
   "source": [
    "# [Get the data](#get-the-data)"
   ]
  },
  {
   "cell_type": "code",
   "execution_count": null,
   "metadata": {},
   "outputs": [],
   "source": [
    "%load_ext nb_black\n",
    "%load_ext autoreload\n",
    "%autoreload 2"
   ]
  },
  {
   "cell_type": "code",
   "execution_count": null,
   "metadata": {},
   "outputs": [],
   "source": [
    "from pathlib import Path\n",
    "\n",
    "import pandas as pd"
   ]
  },
  {
   "cell_type": "code",
   "execution_count": null,
   "metadata": {},
   "outputs": [],
   "source": [
    "%aimport src.data_helpers\n",
    "from src.data_helpers import get_data, get_shapefiles, get_geojson_files"
   ]
  },
  {
   "cell_type": "markdown",
   "metadata": {},
   "source": [
    "<a id=\"toc\"></a>\n",
    "\n",
    "## [Table of Contents](#table-of-contents)\n",
    "0. [About](#about)\n",
    "1. [User Inputs](#user-inputs)\n",
    "2. [Get crime listings data](#get-crime-listings-data)\n",
    "3. [Get weather data](#get-weather-data)\n",
    "4. [Get Chicago boundary shapefiles](#get-chicago-boundary-shapefiles)"
   ]
  },
  {
   "cell_type": "markdown",
   "metadata": {},
   "source": [
    "<a id=\"about\"></a>\n",
    "\n",
    "## 0. [About](#about)"
   ]
  },
  {
   "cell_type": "markdown",
   "metadata": {},
   "source": [
    "In this notebook, we will retrieve the following data\n",
    "- crime listing data from the Chicago Open data portal\n",
    "- weather data for the city of Chicago from the NOAA database for the [O'Hare Airport station in the city](https://www.ncdc.noaa.gov/cdo-web/datasets/GHCND/stations/GHCND:USW00094846/detail)\n",
    "- [boundary files](https://en.wikipedia.org/wiki/GIS_file_formats#Vector) for the city of Chicago, to allow for producing [choropleth maps](https://en.wikipedia.org/wiki/Choropleth_map)"
   ]
  },
  {
   "cell_type": "markdown",
   "metadata": {},
   "source": [
    "<a id=\"user-inputs\"></a>\n",
    "\n",
    "## 1. [User Inputs](#user-inputs)"
   ]
  },
  {
   "cell_type": "markdown",
   "metadata": {},
   "source": [
    "We'll define below the variables and helper functions that are to be used throughout the code."
   ]
  },
  {
   "cell_type": "code",
   "execution_count": null,
   "metadata": {
    "tags": [
     "parameters"
    ]
   },
   "outputs": [],
   "source": [
    "data_dir = str(Path().cwd() / \"data\" / \"raw\")\n",
    "crime_data_urls = {\"2018\": \"3i3m-jwuy\", \"2019\": \"w98m-zvie\"}\n",
    "crime_data_prefix = (\n",
    "    \"https://data.cityofchicago.org/api/views/{}/rows.csv?accessType=DOWNLOAD\"\n",
    ")\n",
    "shapefiles = {\n",
    "    \"Boundaries - Police Beats (current).zip\": \"https://data.cityofchicago.org/api/geospatial/aerh-rz74?method=export&format=Shapefile\",\n",
    "    \"Boundaries - Community Areas (current).zip\": \"https://data.cityofchicago.org/api/geospatial/cauq-8yn6?method=export&format=Shapefile\",\n",
    "    \"Boundaries - Neighborhoods.zip\": \"https://data.cityofchicago.org/api/geospatial/bbvz-uum9?method=export&format=Shapefile\",\n",
    "}\n",
    "\n",
    "geojsonfiles = {\n",
    "    \"Boundaries - Community Areas (current).geojson\": \"https://data.cityofchicago.org/api/geospatial/bbvz-uum9?method=export&format=GeoJSON\",\n",
    "    \"Boundaries - Neighborhoods.geojson\": \"https://data.cityofchicago.org/api/geospatial/cauq-8yn6?method=export&format=GeoJSON\",\n",
    "    \"Boundaries - CPD districts.geojson\": \"https://data.cityofchicago.org/api/geospatial/7hhi-ktqw?method=export&format=GeoJSON\",\n",
    "}\n",
    "force_download_crime_data = True\n",
    "force_download_shape_files = True\n",
    "force_download_geojson_files = True"
   ]
  },
  {
   "cell_type": "code",
   "execution_count": null,
   "metadata": {},
   "outputs": [],
   "source": [
    "data_dir = Path(data_dir)"
   ]
  },
  {
   "cell_type": "markdown",
   "metadata": {},
   "source": [
    "<a id=\"get-crime-listings-data\"></a>\n",
    "\n",
    "## 2. [Get crime listings data](#get-crime-listings-data)"
   ]
  },
  {
   "cell_type": "markdown",
   "metadata": {},
   "source": [
    "We will begin by retrieving crime listings data from the [Chicago open data portal](https://data.cityofchicago.org/browse?limitTo=datasets) for the years [2018](https://data.cityofchicago.org/Public-Safety/Crimes-2018/3i3m-jwuy) and [2019](https://data.cityofchicago.org/Public-Safety/Crimes-2019/w98m-zvie)."
   ]
  },
  {
   "cell_type": "code",
   "execution_count": null,
   "metadata": {},
   "outputs": [],
   "source": [
    "for year, id in crime_data_urls.items():\n",
    "    file_url = crime_data_prefix.format(year, id)\n",
    "    get_data(\n",
    "        file_path=data_dir / f\"Crimes_-_{year}.csv\",\n",
    "        url=crime_data_prefix.format(id),\n",
    "        msg=f\"Downloading crime data for {year} from {file_url}...\",\n",
    "        force_download=force_download_crime_data,\n",
    "    )"
   ]
  },
  {
   "cell_type": "markdown",
   "metadata": {},
   "source": [
    "<a id=\"get-weather-data\"></a>\n",
    "\n",
    "## 3. [Get weather data](#get-weather-data)"
   ]
  },
  {
   "cell_type": "markdown",
   "metadata": {},
   "source": [
    "Next, we'll retrieve the weather data from the NOAA website for the city of Chicago as recorded at the Chicago O'Hare weather station."
   ]
  },
  {
   "cell_type": "markdown",
   "metadata": {},
   "source": [
    "1. First, we'll load the NOAA page for the [Chicago O'Hare weather station](https://www.ncdc.noaa.gov/cdo-web/datasets/GHCND/stations/GHCND:USW00094846/detail)\n",
    "2. Next, we will retrieve GHCN weather data, starting with the page for the weather station at Chicago O'Hare International Airport.\n",
    "   - As we are making a (free) purchase from the NOAA website, we first add the station record to our Shopping Cart by clicking the **ADD TO CART** button. Next, we load our shopping cart and, from the drop-down menus and text input box, we will make the following specifications and then click **Continue**\n",
    "     - Output format\n",
    "       - select \"Custom GHCN-Daily CSV\"\n",
    "     - Date Range (click on the dropdown menu)\n",
    "       - we want all dates from January 1, 2018 to the curent date of October 12, 2019\n",
    "3. Next, from the Custom Options available, we'll make the following selections from the listed checkboxes and then click **Continue**\n",
    "   - Precipitation\n",
    "   - Air Temperature\n",
    "   - Wind\n",
    "   - Weather Type\n",
    "4. Finally, from the Review Order page, we'll simply enter our email address into the two required fields and click **Submit Order**"
   ]
  },
  {
   "cell_type": "markdown",
   "metadata": {},
   "source": [
    "<a id=\"get-chicago-boundary-shapefiles-and-geojson-files\"></a>\n",
    "\n",
    "## 4. [Get Chicago boundary shapefiles and `geojson` files](#get-chicago-boundary-shapefiles-and-geojson-files)"
   ]
  },
  {
   "cell_type": "markdown",
   "metadata": {},
   "source": [
    "Finally, we'll download various boundary files for the city of Chicago from the city's open data portal."
   ]
  },
  {
   "cell_type": "markdown",
   "metadata": {},
   "source": [
    "To do this, we'll loop over all listed boundary files in the `shapefiles` and `geojsonfiles` dictionaries and\n",
    "1. download the zipped (for `shapefiles`) or `geojson` file\n",
    "2. (for `shapefiles`) create a dedicated folder for each type of boundary file\n",
    "3. (for `shapefiles`) [unzip with Python](https://stackoverflow.com/a/3451150/4057186) into a dedicated folder for each type of boundary file"
   ]
  },
  {
   "cell_type": "markdown",
   "metadata": {},
   "source": [
    "We'll start by retrieving the `shapefiles`"
   ]
  },
  {
   "cell_type": "code",
   "execution_count": null,
   "metadata": {},
   "outputs": [],
   "source": [
    "get_shapefiles(\n",
    "    data_dir=data_dir, shapefiles=shapefiles, force_download=force_download_shape_files\n",
    ")"
   ]
  },
  {
   "cell_type": "markdown",
   "metadata": {},
   "source": [
    "Finally, we'll retrieve `geojson` files"
   ]
  },
  {
   "cell_type": "code",
   "execution_count": null,
   "metadata": {
    "scrolled": true
   },
   "outputs": [],
   "source": [
    "get_geojson_files(\n",
    "    data_dir=data_dir,\n",
    "    geojsonfiles=geojsonfiles,\n",
    "    force_download=force_download_geojson_files,\n",
    ")"
   ]
  }
 ],
 "metadata": {
  "kernelspec": {
   "display_name": "Python 3",
   "language": "python",
   "name": "python3"
  },
  "language_info": {
   "codemirror_mode": {
    "name": "ipython",
    "version": 3
   },
   "file_extension": ".py",
   "mimetype": "text/x-python",
   "name": "python",
   "nbconvert_exporter": "python",
   "pygments_lexer": "ipython3",
   "version": "3.7.3"
  }
 },
 "nbformat": 4,
 "nbformat_minor": 2
}
